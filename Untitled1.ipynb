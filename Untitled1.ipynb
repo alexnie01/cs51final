{
 "metadata": {
  "name": "",
  "signature": "sha256:52c6a52fe0d1a7f7d45c4bbbfa377f8104d6c9ef555345ac7649d8f0b009b2ca"
 },
 "nbformat": 3,
 "nbformat_minor": 0,
 "worksheets": [
  {
   "cells": [
    {
     "cell_type": "code",
     "collapsed": false,
     "input": [
      "%run graph.py"
     ],
     "language": "python",
     "metadata": {},
     "outputs": []
    },
    {
     "cell_type": "code",
     "collapsed": false,
     "input": [],
     "language": "python",
     "metadata": {},
     "outputs": []
    }
   ],
   "metadata": {}
  }
 ]
}