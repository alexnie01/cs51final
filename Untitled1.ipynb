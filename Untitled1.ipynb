{
 "metadata": {
  "name": "",
  "signature": "sha256:93b345a9e99ed7a2d357dbf0992b1c020ec4133cabc2100251c877b6e83e42eb"
 },
 "nbformat": 3,
 "nbformat_minor": 0,
 "worksheets": [
  {
   "cells": [
    {
     "cell_type": "code",
     "collapsed": false,
     "input": [
      "%run graph.py"
     ],
     "language": "python",
     "metadata": {},
     "outputs": [
      {
       "output_type": "stream",
       "stream": "stdout",
       "text": [
        "Would you like Boston (B) or Paris (P)?\n"
       ]
      },
      {
       "name": "stdout",
       "output_type": "stream",
       "stream": "stdout",
       "text": [
        "P\n"
       ]
      },
      {
       "output_type": "stream",
       "stream": "stdout",
       "text": [
        "What would you like to do? \n",
        " \n",
        "        - See the Graph             (Type: 'G')\n",
        "        - Display a Congestion Map  (Type: 'D') \n",
        "        - Try Adding a New Edge     (Type: 'A') \n",
        "        - Run Simulation            (Type: 'S')\n",
        "        - Recommend a Route         (Type: 'R')\n",
        "        - Change the Algorithm      (Type: 'E')\n",
        "        - Exit                      (Type: 'Q')\n",
        "        \n"
       ]
      },
      {
       "name": "stdout",
       "output_type": "stream",
       "stream": "stdout",
       "text": [
        "E\n"
       ]
      },
      {
       "output_type": "stream",
       "stream": "stdout",
       "text": [
        "The current algorithm you are using is dijkstra-dheap \n",
        "\n",
        "            What would you like to change it to?\n",
        "            - Dijkstra's Binary Heap    (Type: B) \n",
        "            - Dijkstra's Priority Queue (Type: Q) \n",
        "            - A Star                    (Type: A)\n",
        "            \n"
       ]
      },
      {
       "name": "stdout",
       "output_type": "stream",
       "stream": "stdout",
       "text": [
        "B\n"
       ]
      },
      {
       "output_type": "stream",
       "stream": "stdout",
       "text": [
        "What would you like to do? \n",
        " \n",
        "        - See the Graph             (Type: 'G')\n",
        "        - Display a Congestion Map  (Type: 'D') \n",
        "        - Try Adding a New Edge     (Type: 'A') \n",
        "        - Run Simulation            (Type: 'S')\n",
        "        - Recommend a Route         (Type: 'R')\n",
        "        - Change the Algorithm      (Type: 'E')\n",
        "        - Exit                      (Type: 'Q')\n",
        "        \n"
       ]
      },
      {
       "name": "stdout",
       "output_type": "stream",
       "stream": "stdout",
       "text": [
        "E\n"
       ]
      },
      {
       "output_type": "stream",
       "stream": "stdout",
       "text": [
        "The current algorithm you are using is dijkstra-dheap \n",
        "\n",
        "            What would you like to change it to?\n",
        "            - Dijkstra's Binary Heap    (Type: B) \n",
        "            - Dijkstra's Priority Queue (Type: Q) \n",
        "            - A Star                    (Type: A)\n",
        "            \n"
       ]
      },
      {
       "name": "stdout",
       "output_type": "stream",
       "stream": "stdout",
       "text": [
        "B\n"
       ]
      },
      {
       "output_type": "stream",
       "stream": "stdout",
       "text": [
        "What would you like to do? \n",
        " \n",
        "        - See the Graph             (Type: 'G')\n",
        "        - Display a Congestion Map  (Type: 'D') \n",
        "        - Try Adding a New Edge     (Type: 'A') \n",
        "        - Run Simulation            (Type: 'S')\n",
        "        - Recommend a Route         (Type: 'R')\n",
        "        - Change the Algorithm      (Type: 'E')\n",
        "        - Exit                      (Type: 'Q')\n",
        "        \n"
       ]
      },
      {
       "name": "stdout",
       "output_type": "stream",
       "stream": "stdout",
       "text": [
        "D\n"
       ]
      }
     ]
    },
    {
     "cell_type": "code",
     "collapsed": false,
     "input": [],
     "language": "python",
     "metadata": {},
     "outputs": []
    }
   ],
   "metadata": {}
  }
 ]
}