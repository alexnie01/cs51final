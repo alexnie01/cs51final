{
 "metadata": {
  "name": "",
  "signature": "sha256:2b27fcd6330f05231deb18175a59e8ad0ee9919b7871e15851294bab7f30e4b8"
 },
 "nbformat": 3,
 "nbformat_minor": 0,
 "worksheets": [
  {
   "cells": [
    {
     "cell_type": "code",
     "collapsed": false,
     "input": [
      "%run graph.py"
     ],
     "language": "python",
     "metadata": {},
     "outputs": [
      {
       "output_type": "stream",
       "stream": "stdout",
       "text": [
        "Would you like Boston (B) or Paris (P)?\n"
       ]
      },
      {
       "name": "stdout",
       "output_type": "stream",
       "stream": "stdout",
       "text": [
        "B\n"
       ]
      },
      {
       "output_type": "stream",
       "stream": "stdout",
       "text": [
        "What would you like to do? \n",
        " \n",
        "        - See the Graph             (Type: 'G')\n",
        "        - Display a Congestion Map  (Type: 'D') \n",
        "        - Try Adding a New Edge     (Type: 'A') \n",
        "        - Run Simulation            (Type: 'S')\n",
        "        - Recommend a Route         (Type: 'R')\n",
        "        - Change the Algorithm      (Type: 'E')\n",
        "        - Exit                      (Type: 'Q')\n",
        "        \n"
       ]
      },
      {
       "name": "stdout",
       "output_type": "stream",
       "stream": "stdout",
       "text": [
        "R\n"
       ]
      },
      {
       "output_type": "stream",
       "stream": "stdout",
       "text": [
        "Calculating Congestions using dijkstra-dheap\n",
        "Type the name of the first station"
       ]
      },
      {
       "output_type": "stream",
       "stream": "stdout",
       "text": [
        "\n"
       ]
      },
      {
       "name": "stdout",
       "output_type": "stream",
       "stream": "stdout",
       "text": [
        "Harvard\n"
       ]
      },
      {
       "output_type": "stream",
       "stream": "stdout",
       "text": [
        "Type the name of the second station\n"
       ]
      },
      {
       "name": "stdout",
       "output_type": "stream",
       "stream": "stdout",
       "text": [
        "Kenmore\n"
       ]
      },
      {
       "output_type": "stream",
       "stream": "stdout",
       "text": [
        "We recommend you take this path:\n",
        "Harvard->Central->Kendall/MIT->Charles/MGH->Park St->Boylston->Arlington->Copley->Hynes->Kenmore->\n",
        "What would you like to do? \n",
        " \n",
        "        - See the Graph             (Type: 'G')\n",
        "        - Display a Congestion Map  (Type: 'D') \n",
        "        - Try Adding a New Edge     (Type: 'A') \n",
        "        - Run Simulation            (Type: 'S')\n",
        "        - Recommend a Route         (Type: 'R')\n",
        "        - Change the Algorithm      (Type: 'E')\n",
        "        - Exit                      (Type: 'Q')\n",
        "        \n"
       ]
      }
     ]
    },
    {
     "cell_type": "code",
     "collapsed": false,
     "input": [],
     "language": "python",
     "metadata": {},
     "outputs": []
    }
   ],
   "metadata": {}
  }
 ]
}